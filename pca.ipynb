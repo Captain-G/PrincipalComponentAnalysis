{
 "cells": [
  {
   "cell_type": "code",
   "execution_count": 1,
   "id": "initial_id",
   "metadata": {
    "collapsed": true,
    "ExecuteTime": {
     "end_time": "2023-11-26T18:34:31.627529683Z",
     "start_time": "2023-11-26T18:34:29.229414576Z"
    }
   },
   "outputs": [],
   "source": [
    "import pandas as pd\n",
    "from sklearn.datasets import load_digits"
   ]
  },
  {
   "cell_type": "code",
   "execution_count": 3,
   "outputs": [
    {
     "data": {
      "text/plain": "dict_keys(['data', 'target', 'frame', 'feature_names', 'target_names', 'images', 'DESCR'])"
     },
     "execution_count": 3,
     "metadata": {},
     "output_type": "execute_result"
    }
   ],
   "source": [
    "dataset = load_digits()\n",
    "dataset.keys()"
   ],
   "metadata": {
    "collapsed": false,
    "ExecuteTime": {
     "end_time": "2023-11-26T18:35:18.136179017Z",
     "start_time": "2023-11-26T18:35:18.093133550Z"
    }
   },
   "id": "3c619eebb6c04258"
  },
  {
   "cell_type": "code",
   "execution_count": 4,
   "outputs": [
    {
     "data": {
      "text/plain": "(1797, 64)"
     },
     "execution_count": 4,
     "metadata": {},
     "output_type": "execute_result"
    }
   ],
   "source": [
    "dataset.data.shape"
   ],
   "metadata": {
    "collapsed": false,
    "ExecuteTime": {
     "end_time": "2023-11-26T18:35:28.006972059Z",
     "start_time": "2023-11-26T18:35:27.990993163Z"
    }
   },
   "id": "c0c74a701d292a95"
  },
  {
   "cell_type": "code",
   "execution_count": 5,
   "outputs": [
    {
     "data": {
      "text/plain": "array([[ 0.,  0.,  5., 13.,  9.,  1.,  0.,  0.],\n       [ 0.,  0., 13., 15., 10., 15.,  5.,  0.],\n       [ 0.,  3., 15.,  2.,  0., 11.,  8.,  0.],\n       [ 0.,  4., 12.,  0.,  0.,  8.,  8.,  0.],\n       [ 0.,  5.,  8.,  0.,  0.,  9.,  8.,  0.],\n       [ 0.,  4., 11.,  0.,  1., 12.,  7.,  0.],\n       [ 0.,  2., 14.,  5., 10., 12.,  0.,  0.],\n       [ 0.,  0.,  6., 13., 10.,  0.,  0.,  0.]])"
     },
     "execution_count": 5,
     "metadata": {},
     "output_type": "execute_result"
    }
   ],
   "source": [
    "dataset.data[0].reshape(8, 8)"
   ],
   "metadata": {
    "collapsed": false,
    "ExecuteTime": {
     "end_time": "2023-11-26T18:35:55.945383627Z",
     "start_time": "2023-11-26T18:35:55.901689511Z"
    }
   },
   "id": "5f670390356f6e20"
  },
  {
   "cell_type": "code",
   "execution_count": 9,
   "outputs": [
    {
     "data": {
      "text/plain": "<matplotlib.image.AxesImage at 0x7f9fb5d59670>"
     },
     "execution_count": 9,
     "metadata": {},
     "output_type": "execute_result"
    },
    {
     "data": {
      "text/plain": "<Figure size 432x288 with 0 Axes>"
     },
     "metadata": {},
     "output_type": "display_data"
    },
    {
     "data": {
      "text/plain": "<Figure size 288x288 with 1 Axes>",
      "image/png": "[encoded data removed]"
     },
     "metadata": {
      "needs_background": "light"
     },
     "output_type": "display_data"
    }
   ],
   "source": [
    "from matplotlib import pyplot as plt\n",
    "%matplotlib inline\n",
    "\n",
    "plt.gray()\n",
    "plt.matshow(dataset.data[0].reshape(8, 8))"
   ],
   "metadata": {
    "collapsed": false,
    "ExecuteTime": {
     "end_time": "2023-11-26T18:38:04.100869283Z",
     "start_time": "2023-11-26T18:38:03.891395707Z"
    }
   },
   "id": "333a86d61ea692dc"
  },
  {
   "cell_type": "code",
   "execution_count": 14,
   "outputs": [
    {
     "data": {
      "text/plain": "array([0, 1, 2, 3, 4, 5, 6, 7, 8, 9])"
     },
     "execution_count": 14,
     "metadata": {},
     "output_type": "execute_result"
    }
   ],
   "source": [
    "import numpy as np\n",
    "np.unique(dataset.target)"
   ],
   "metadata": {
    "collapsed": false,
    "ExecuteTime": {
     "end_time": "2023-11-26T18:39:49.612435946Z",
     "start_time": "2023-11-26T18:39:49.604058352Z"
    }
   },
   "id": "ee2e5f6952456560"
  },
  {
   "cell_type": "code",
   "execution_count": 18,
   "outputs": [],
   "source": [
    "df = pd.DataFrame(dataset.data, columns=dataset.feature_names)"
   ],
   "metadata": {
    "collapsed": false,
    "ExecuteTime": {
     "end_time": "2023-11-26T18:41:54.799655095Z",
     "start_time": "2023-11-26T18:41:54.792622571Z"
    }
   },
   "id": "ff2f5d48ed29c534"
  },
  {
   "cell_type": "code",
   "execution_count": 19,
   "outputs": [
    {
     "data": {
      "text/plain": "       pixel_0_0    pixel_0_1    pixel_0_2    pixel_0_3    pixel_0_4  \\\ncount     1797.0  1797.000000  1797.000000  1797.000000  1797.000000   \nmean         0.0     0.303840     5.204786    11.835838    11.848080   \nstd          0.0     0.907192     4.754826     4.248842     4.287388   \nmin          0.0     0.000000     0.000000     0.000000     0.000000   \n25%          0.0     0.000000     1.000000    10.000000    10.000000   \n50%          0.0     0.000000     4.000000    13.000000    13.000000   \n75%          0.0     0.000000     9.000000    15.000000    15.000000   \nmax          0.0     8.000000    16.000000    16.000000    16.000000   \n\n         pixel_0_5    pixel_0_6    pixel_0_7    pixel_1_0    pixel_1_1  ...  \\\ncount  1797.000000  1797.000000  1797.000000  1797.000000  1797.000000  ...   \nmean      5.781859     1.362270     0.129661     0.005565     1.993879  ...   \nstd       5.666418     3.325775     1.037383     0.094222     3.196160  ...   \nmin       0.000000     0.000000     0.000000     0.000000     0.000000  ...   \n25%       0.000000     0.000000     0.000000     0.000000     0.000000  ...   \n50%       4.000000     0.000000     0.000000     0.000000     0.000000  ...   \n75%      11.000000     0.000000     0.000000     0.000000     3.000000  ...   \nmax      16.000000    16.000000    15.000000     2.000000    16.000000  ...   \n\n         pixel_6_6    pixel_6_7    pixel_7_0    pixel_7_1    pixel_7_2  \\\ncount  1797.000000  1797.000000  1797.000000  1797.000000  1797.000000   \nmean      3.725097     0.206455     0.000556     0.279354     5.557596   \nstd       4.919406     0.984401     0.023590     0.934302     5.103019   \nmin       0.000000     0.000000     0.000000     0.000000     0.000000   \n25%       0.000000     0.000000     0.000000     0.000000     1.000000   \n50%       1.000000     0.000000     0.000000     0.000000     4.000000   \n75%       7.000000     0.000000     0.000000     0.000000    10.000000   \nmax      16.000000    13.000000     1.000000     9.000000    16.000000   \n\n         pixel_7_3    pixel_7_4    pixel_7_5    pixel_7_6    pixel_7_7  \ncount  1797.000000  1797.000000  1797.000000  1797.000000  1797.000000  \nmean     12.089037    11.809126     6.764051     2.067891     0.364496  \nstd       4.374694     4.933947     5.900623     4.090548     1.860122  \nmin       0.000000     0.000000     0.000000     0.000000     0.000000  \n25%      11.000000    10.000000     0.000000     0.000000     0.000000  \n50%      13.000000    14.000000     6.000000     0.000000     0.000000  \n75%      16.000000    16.000000    12.000000     2.000000     0.000000  \nmax      16.000000    16.000000    16.000000    16.000000    16.000000  \n\n[8 rows x 64 columns]",
      "text/html": "<div>\n<style scoped>\n    .dataframe tbody tr th:only-of-type {\n        vertical-align: middle;\n    }\n\n    .dataframe tbody tr th {\n        vertical-align: top;\n    }\n\n    .dataframe thead th {\n        text-align: right;\n    }\n</style>\n<table border=\"1\" class=\"dataframe\">\n  <thead>\n    <tr style=\"text-align: right;\">\n      <th></th>\n      <th>pixel_0_0</th>\n      <th>pixel_0_1</th>\n      <th>pixel_0_2</th>\n      <th>pixel_0_3</th>\n      <th>pixel_0_4</th>\n      <th>pixel_0_5</th>\n      <th>pixel_0_6</th>\n      <th>pixel_0_7</th>\n      <th>pixel_1_0</th>\n      <th>pixel_1_1</th>\n      <th>...</th>\n      <th>pixel_6_6</th>\n      <th>pixel_6_7</th>\n      <th>pixel_7_0</th>\n      <th>pixel_7_1</th>\n      <th>pixel_7_2</th>\n      <th>pixel_7_3</th>\n      <th>pixel_7_4</th>\n      <th>pixel_7_5</th>\n      <th>pixel_7_6</th>\n      <th>pixel_7_7</th>\n    </tr>\n  </thead>\n  <tbody>\n    <tr>\n      <th>count</th>\n      <td>1797.0</td>\n      <td>1797.000000</td>\n      <td>1797.000000</td>\n      <td>1797.000000</td>\n      <td>1797.000000</td>\n      <td>1797.000000</td>\n      <td>1797.000000</td>\n      <td>1797.000000</td>\n      <td>1797.000000</td>\n      <td>1797.000000</td>\n      <td>...</td>\n      <td>1797.000000</td>\n      <td>1797.000000</td>\n      <td>1797.000000</td>\n      <td>1797.000000</td>\n      <td>1797.000000</td>\n      <td>1797.000000</td>\n      <td>1797.000000</td>\n      <td>1797.000000</td>\n      <td>1797.000000</td>\n      <td>1797.000000</td>\n    </tr>\n    <tr>\n      <th>mean</th>\n      <td>0.0</td>\n      <td>0.303840</td>\n      <td>5.204786</td>\n      <td>11.835838</td>\n      <td>11.848080</td>\n      <td>5.781859</td>\n      <td>1.362270</td>\n      <td>0.129661</td>\n      <td>0.005565</td>\n      <td>1.993879</td>\n      <td>...</td>\n      <td>3.725097</td>\n      <td>0.206455</td>\n      <td>0.000556</td>\n      <td>0.279354</td>\n      <td>5.557596</td>\n      <td>12.089037</td>\n      <td>11.809126</td>\n      <td>6.764051</td>\n      <td>2.067891</td>\n      <td>0.364496</td>\n    </tr>\n    <tr>\n      <th>std</th>\n      <td>0.0</td>\n      <td>0.907192</td>\n      <td>4.754826</td>\n      <td>4.248842</td>\n      <td>4.287388</td>\n      <td>5.666418</td>\n      <td>3.325775</td>\n      <td>1.037383</td>\n      <td>0.094222</td>\n      <td>3.196160</td>\n      <td>...</td>\n      <td>4.919406</td>\n      <td>0.984401</td>\n      <td>0.023590</td>\n      <td>0.934302</td>\n      <td>5.103019</td>\n      <td>4.374694</td>\n      <td>4.933947</td>\n      <td>5.900623</td>\n      <td>4.090548</td>\n      <td>1.860122</td>\n    </tr>\n    <tr>\n      <th>min</th>\n      <td>0.0</td>\n      <td>0.000000</td>\n      <td>0.000000</td>\n      <td>0.000000</td>\n      <td>0.000000</td>\n      <td>0.000000</td>\n      <td>0.000000</td>\n      <td>0.000000</td>\n      <td>0.000000</td>\n      <td>0.000000</td>\n      <td>...</td>\n      <td>0.000000</td>\n      <td>0.000000</td>\n      <td>0.000000</td>\n      <td>0.000000</td>\n      <td>0.000000</td>\n      <td>0.000000</td>\n      <td>0.000000</td>\n      <td>0.000000</td>\n      <td>0.000000</td>\n      <td>0.000000</td>\n    </tr>\n    <tr>\n      <th>25%</th>\n      <td>0.0</td>\n      <td>0.000000</td>\n      <td>1.000000</td>\n      <td>10.000000</td>\n      <td>10.000000</td>\n      <td>0.000000</td>\n      <td>0.000000</td>\n      <td>0.000000</td>\n      <td>0.000000</td>\n      <td>0.000000</td>\n      <td>...</td>\n      <td>0.000000</td>\n      <td>0.000000</td>\n      <td>0.000000</td>\n      <td>0.000000</td>\n      <td>1.000000</td>\n      <td>11.000000</td>\n      <td>10.000000</td>\n      <td>0.000000</td>\n      <td>0.000000</td>\n      <td>0.000000</td>\n    </tr>\n    <tr>\n      <th>50%</th>\n      <td>0.0</td>\n      <td>0.000000</td>\n      <td>4.000000</td>\n      <td>13.000000</td>\n      <td>13.000000</td>\n      <td>4.000000</td>\n      <td>0.000000</td>\n      <td>0.000000</td>\n      <td>0.000000</td>\n      <td>0.000000</td>\n      <td>...</td>\n      <td>1.000000</td>\n      <td>0.000000</td>\n      <td>0.000000</td>\n      <td>0.000000</td>\n      <td>4.000000</td>\n      <td>13.000000</td>\n      <td>14.000000</td>\n      <td>6.000000</td>\n      <td>0.000000</td>\n      <td>0.000000</td>\n    </tr>\n    <tr>\n      <th>75%</th>\n      <td>0.0</td>\n      <td>0.000000</td>\n      <td>9.000000</td>\n      <td>15.000000</td>\n      <td>15.000000</td>\n      <td>11.000000</td>\n      <td>0.000000</td>\n      <td>0.000000</td>\n      <td>0.000000</td>\n      <td>3.000000</td>\n      <td>...</td>\n      <td>7.000000</td>\n      <td>0.000000</td>\n      <td>0.000000</td>\n      <td>0.000000</td>\n      <td>10.000000</td>\n      <td>16.000000</td>\n      <td>16.000000</td>\n      <td>12.000000</td>\n      <td>2.000000</td>\n      <td>0.000000</td>\n    </tr>\n    <tr>\n      <th>max</th>\n      <td>0.0</td>\n      <td>8.000000</td>\n      <td>16.000000</td>\n      <td>16.000000</td>\n      <td>16.000000</td>\n      <td>16.000000</td>\n      <td>16.000000</td>\n      <td>15.000000</td>\n      <td>2.000000</td>\n      <td>16.000000</td>\n      <td>...</td>\n      <td>16.000000</td>\n      <td>13.000000</td>\n      <td>1.000000</td>\n      <td>9.000000</td>\n      <td>16.000000</td>\n      <td>16.000000</td>\n      <td>16.000000</td>\n      <td>16.000000</td>\n      <td>16.000000</td>\n      <td>16.000000</td>\n    </tr>\n  </tbody>\n</table>\n<p>8 rows × 64 columns</p>\n</div>"
     },
     "execution_count": 19,
     "metadata": {},
     "output_type": "execute_result"
    }
   ],
   "source": [
    "df.describe()"
   ],
   "metadata": {
    "collapsed": false,
    "ExecuteTime": {
     "end_time": "2023-11-26T18:41:55.410577499Z",
     "start_time": "2023-11-26T18:41:55.247279359Z"
    }
   },
   "id": "31d19f7515e813df"
  },
  {
   "cell_type": "code",
   "execution_count": 20,
   "outputs": [],
   "source": [
    "X = df\n",
    "y = dataset.target"
   ],
   "metadata": {
    "collapsed": false,
    "ExecuteTime": {
     "end_time": "2023-11-26T18:42:19.831804211Z",
     "start_time": "2023-11-26T18:42:19.788918910Z"
    }
   },
   "id": "cedec6824f13dcff"
  },
  {
   "cell_type": "code",
   "execution_count": 21,
   "outputs": [
    {
     "data": {
      "text/plain": "array([0, 1, 2, ..., 8, 9, 8])"
     },
     "execution_count": 21,
     "metadata": {},
     "output_type": "execute_result"
    }
   ],
   "source": [
    "y"
   ],
   "metadata": {
    "collapsed": false,
    "ExecuteTime": {
     "end_time": "2023-11-26T18:42:24.014561844Z",
     "start_time": "2023-11-26T18:42:23.998283635Z"
    }
   },
   "id": "653617c3683792c9"
  },
  {
   "cell_type": "code",
   "execution_count": 22,
   "outputs": [
    {
     "data": {
      "text/plain": "array([[ 0.        , -0.33501649, -0.04308102, ..., -1.14664746,\n        -0.5056698 , -0.19600752],\n       [ 0.        , -0.33501649, -1.09493684, ...,  0.54856067,\n        -0.5056698 , -0.19600752],\n       [ 0.        , -0.33501649, -1.09493684, ...,  1.56568555,\n         1.6951369 , -0.19600752],\n       ...,\n       [ 0.        , -0.33501649, -0.88456568, ..., -0.12952258,\n        -0.5056698 , -0.19600752],\n       [ 0.        , -0.33501649, -0.67419451, ...,  0.8876023 ,\n        -0.5056698 , -0.19600752],\n       [ 0.        , -0.33501649,  1.00877481, ...,  0.8876023 ,\n        -0.26113572, -0.19600752]])"
     },
     "execution_count": 22,
     "metadata": {},
     "output_type": "execute_result"
    }
   ],
   "source": [
    "from sklearn.preprocessing import StandardScaler\n",
    "\n",
    "scaler = StandardScaler()\n",
    "X_scaled = scaler.fit_transform(X)\n",
    "X_scaled"
   ],
   "metadata": {
    "collapsed": false,
    "ExecuteTime": {
     "end_time": "2023-11-26T18:43:19.068303818Z",
     "start_time": "2023-11-26T18:43:19.023627530Z"
    }
   },
   "id": "c1d54fbe9a7d3b6c"
  },
  {
   "cell_type": "code",
   "execution_count": 25,
   "outputs": [],
   "source": [
    "from sklearn.model_selection import train_test_split\n",
    "\n",
    "X_train, X_test, y_train, y_test = train_test_split(X_scaled, y, test_size=0.2, random_state=30)\n"
   ],
   "metadata": {
    "collapsed": false,
    "ExecuteTime": {
     "end_time": "2023-11-26T18:45:59.955992481Z",
     "start_time": "2023-11-26T18:45:59.911532940Z"
    }
   },
   "id": "62e86bab655c42b5"
  },
  {
   "cell_type": "code",
   "execution_count": 26,
   "outputs": [
    {
     "data": {
      "text/plain": "0.9722222222222222"
     },
     "execution_count": 26,
     "metadata": {},
     "output_type": "execute_result"
    }
   ],
   "source": [
    "from sklearn.linear_model import LogisticRegression\n",
    "\n",
    "model = LogisticRegression()\n",
    "model.fit(X_train, y_train)\n",
    "model.score(X_test, y_test)"
   ],
   "metadata": {
    "collapsed": false,
    "ExecuteTime": {
     "end_time": "2023-11-26T18:47:09.253828892Z",
     "start_time": "2023-11-26T18:47:08.575891061Z"
    }
   },
   "id": "b79a95374a0c5b6d"
  },
  {
   "cell_type": "code",
   "execution_count": 31,
   "outputs": [
    {
     "data": {
      "text/plain": "(1797, 29)"
     },
     "execution_count": 31,
     "metadata": {},
     "output_type": "execute_result"
    }
   ],
   "source": [
    "from sklearn.decomposition import PCA\n",
    "\n",
    "# pca = PCA(n_components=2)\n",
    "pca = PCA(0.95)\n",
    "X_pca = (pca.fit_transform(X))\n",
    "X_pca.shape"
   ],
   "metadata": {
    "collapsed": false,
    "ExecuteTime": {
     "end_time": "2023-11-26T18:49:49.834747585Z",
     "start_time": "2023-11-26T18:49:49.787165076Z"
    }
   },
   "id": "a398db268bb0e027"
  },
  {
   "cell_type": "code",
   "execution_count": 32,
   "outputs": [
    {
     "data": {
      "text/plain": "array([0.14890594, 0.13618771, 0.11794594, 0.08409979, 0.05782415,\n       0.0491691 , 0.04315987, 0.03661373, 0.03353248, 0.03078806,\n       0.02372341, 0.02272697, 0.01821863, 0.01773855, 0.01467101,\n       0.01409716, 0.01318589, 0.01248138, 0.01017718, 0.00905617,\n       0.00889538, 0.00797123, 0.00767493, 0.00722904, 0.00695889,\n       0.00596081, 0.00575615, 0.00515158, 0.0048954 ])"
     },
     "execution_count": 32,
     "metadata": {},
     "output_type": "execute_result"
    }
   ],
   "source": [
    "pca.explained_variance_ratio_"
   ],
   "metadata": {
    "collapsed": false,
    "ExecuteTime": {
     "end_time": "2023-11-26T18:52:41.735972521Z",
     "start_time": "2023-11-26T18:52:41.670384294Z"
    }
   },
   "id": "1d4948291bfba3ef"
  },
  {
   "cell_type": "code",
   "execution_count": 33,
   "outputs": [
    {
     "data": {
      "text/plain": "29"
     },
     "execution_count": 33,
     "metadata": {},
     "output_type": "execute_result"
    }
   ],
   "source": [
    "pca.n_components_"
   ],
   "metadata": {
    "collapsed": false,
    "ExecuteTime": {
     "end_time": "2023-11-26T18:53:21.185824168Z",
     "start_time": "2023-11-26T18:53:21.134816903Z"
    }
   },
   "id": "9f0c7b346a2686d3"
  },
  {
   "cell_type": "code",
   "execution_count": 36,
   "outputs": [],
   "source": [
    "X_train_pca, X_test_pca, y_train, y_test = train_test_split(X_pca, y, test_size=0.2, random_state=30)"
   ],
   "metadata": {
    "collapsed": false,
    "ExecuteTime": {
     "end_time": "2023-11-26T18:55:18.042789473Z",
     "start_time": "2023-11-26T18:55:17.987692710Z"
    }
   },
   "id": "7f9afc6b899ba9d7"
  },
  {
   "cell_type": "code",
   "execution_count": 39,
   "outputs": [
    {
     "data": {
      "text/plain": "0.9694444444444444"
     },
     "execution_count": 39,
     "metadata": {},
     "output_type": "execute_result"
    }
   ],
   "source": [
    "model = LogisticRegression(max_iter=1000)\n",
    "model.fit(X_train_pca, y_train)\n",
    "model.score(X_test_pca, y_test)"
   ],
   "metadata": {
    "collapsed": false,
    "ExecuteTime": {
     "end_time": "2023-11-26T18:57:20.247848078Z",
     "start_time": "2023-11-26T18:57:17.815084695Z"
    }
   },
   "id": "d01248d2ba996935"
  },
  {
   "cell_type": "code",
   "execution_count": 40,
   "outputs": [
    {
     "data": {
      "text/plain": "(1797, 2)"
     },
     "execution_count": 40,
     "metadata": {},
     "output_type": "execute_result"
    }
   ],
   "source": [
    "pca = PCA(n_components=2)\n",
    "X_pca = pca.fit_transform(X)\n",
    "X_pca.shape"
   ],
   "metadata": {
    "collapsed": false,
    "ExecuteTime": {
     "end_time": "2023-11-26T18:58:32.938498288Z",
     "start_time": "2023-11-26T18:58:32.815574840Z"
    }
   },
   "id": "bb5564982b1ea7a0"
  },
  {
   "cell_type": "code",
   "execution_count": 41,
   "outputs": [
    {
     "data": {
      "text/plain": "array([[ -1.2594667 ,  21.27488334],\n       [  7.95761146, -20.76869961],\n       [  6.99192335,  -9.9559862 ],\n       ...,\n       [ 10.80128317,  -6.96025255],\n       [ -4.87209772,  12.42395367],\n       [ -0.34439021,   6.36554976]])"
     },
     "execution_count": 41,
     "metadata": {},
     "output_type": "execute_result"
    }
   ],
   "source": [
    "X_pca"
   ],
   "metadata": {
    "collapsed": false,
    "ExecuteTime": {
     "end_time": "2023-11-26T18:58:57.008447837Z",
     "start_time": "2023-11-26T18:58:56.988571410Z"
    }
   },
   "id": "a65dfdfd33b9f91e"
  },
  {
   "cell_type": "code",
   "execution_count": 42,
   "outputs": [
    {
     "data": {
      "text/plain": "array([0.14890594, 0.13618771])"
     },
     "execution_count": 42,
     "metadata": {},
     "output_type": "execute_result"
    }
   ],
   "source": [
    "pca.explained_variance_ratio_"
   ],
   "metadata": {
    "collapsed": false,
    "ExecuteTime": {
     "end_time": "2023-11-26T18:59:09.188522908Z",
     "start_time": "2023-11-26T18:59:09.121403548Z"
    }
   },
   "id": "1424774fef22c89b"
  },
  {
   "cell_type": "code",
   "execution_count": 43,
   "outputs": [],
   "source": [
    "X_train_pca, X_test_pca, y_train, y_test = train_test_split(X_pca, y, test_size=0.2, random_state=30)"
   ],
   "metadata": {
    "collapsed": false,
    "ExecuteTime": {
     "end_time": "2023-11-26T19:00:12.795740325Z",
     "start_time": "2023-11-26T19:00:12.752439711Z"
    }
   },
   "id": "cf2fa44e1c39bab8"
  },
  {
   "cell_type": "code",
   "execution_count": 44,
   "outputs": [
    {
     "data": {
      "text/plain": "0.6083333333333333"
     },
     "execution_count": 44,
     "metadata": {},
     "output_type": "execute_result"
    }
   ],
   "source": [
    "model = LogisticRegression(max_iter=1000)\n",
    "model.fit(X_train_pca, y_train)\n",
    "model.score(X_test_pca, y_test)"
   ],
   "metadata": {
    "collapsed": false,
    "ExecuteTime": {
     "end_time": "2023-11-26T19:00:17.314023651Z",
     "start_time": "2023-11-26T19:00:16.958032012Z"
    }
   },
   "id": "be2ac4c458d8e460"
  },
  {
   "cell_type": "code",
   "execution_count": null,
   "outputs": [],
   "source": [],
   "metadata": {
    "collapsed": false
   },
   "id": "b00685139f34d3c8"
  }
 ],
 "metadata": {
  "kernelspec": {
   "display_name": "Python 3",
   "language": "python",
   "name": "python3"
  },
  "language_info": {
   "codemirror_mode": {
    "name": "ipython",
    "version": 2
   },
   "file_extension": ".py",
   "mimetype": "text/x-python",
   "name": "python",
   "nbconvert_exporter": "python",
   "pygments_lexer": "ipython2",
   "version": "2.7.6"
  }
 },
 "nbformat": 4,
 "nbformat_minor": 5
}

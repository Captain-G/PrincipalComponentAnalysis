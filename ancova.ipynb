{
 "cells": [
  {
   "cell_type": "code",
   "execution_count": 1,
   "id": "initial_id",
   "metadata": {
    "collapsed": true,
    "ExecuteTime": {
     "end_time": "2023-11-26T19:39:57.411828635Z",
     "start_time": "2023-11-26T19:39:56.835714444Z"
    }
   },
   "outputs": [
    {
     "data": {
      "text/plain": "   methodology  current_grade  test_score\n0            A             67          77\n1            A             88          89\n2            A             75          74\n3            A             85          69\n4            B             92          88\n5            B             77          93\n6            B             74          94\n7            B             88          90\n8            C             91          85\n9            C             88          81\n10           C             82          83\n11           C             80          79",
      "text/html": "<div>\n<style scoped>\n    .dataframe tbody tr th:only-of-type {\n        vertical-align: middle;\n    }\n\n    .dataframe tbody tr th {\n        vertical-align: top;\n    }\n\n    .dataframe thead th {\n        text-align: right;\n    }\n</style>\n<table border=\"1\" class=\"dataframe\">\n  <thead>\n    <tr style=\"text-align: right;\">\n      <th></th>\n      <th>methodology</th>\n      <th>current_grade</th>\n      <th>test_score</th>\n    </tr>\n  </thead>\n  <tbody>\n    <tr>\n      <th>0</th>\n      <td>A</td>\n      <td>67</td>\n      <td>77</td>\n    </tr>\n    <tr>\n      <th>1</th>\n      <td>A</td>\n      <td>88</td>\n      <td>89</td>\n    </tr>\n    <tr>\n      <th>2</th>\n      <td>A</td>\n      <td>75</td>\n      <td>74</td>\n    </tr>\n    <tr>\n      <th>3</th>\n      <td>A</td>\n      <td>85</td>\n      <td>69</td>\n    </tr>\n    <tr>\n      <th>4</th>\n      <td>B</td>\n      <td>92</td>\n      <td>88</td>\n    </tr>\n    <tr>\n      <th>5</th>\n      <td>B</td>\n      <td>77</td>\n      <td>93</td>\n    </tr>\n    <tr>\n      <th>6</th>\n      <td>B</td>\n      <td>74</td>\n      <td>94</td>\n    </tr>\n    <tr>\n      <th>7</th>\n      <td>B</td>\n      <td>88</td>\n      <td>90</td>\n    </tr>\n    <tr>\n      <th>8</th>\n      <td>C</td>\n      <td>91</td>\n      <td>85</td>\n    </tr>\n    <tr>\n      <th>9</th>\n      <td>C</td>\n      <td>88</td>\n      <td>81</td>\n    </tr>\n    <tr>\n      <th>10</th>\n      <td>C</td>\n      <td>82</td>\n      <td>83</td>\n    </tr>\n    <tr>\n      <th>11</th>\n      <td>C</td>\n      <td>80</td>\n      <td>79</td>\n    </tr>\n  </tbody>\n</table>\n</div>"
     },
     "execution_count": 1,
     "metadata": {},
     "output_type": "execute_result"
    }
   ],
   "source": [
    "import numpy as np\n",
    "import pandas as pd\n",
    "# create data\n",
    "data = pd.DataFrame({'methodology': np.repeat(['A', 'B', 'C'], 4),\n",
    "                     'current_grade': [67, 88, 75, 85,\n",
    "                                       92, 77, 74, 88,\n",
    "                                       91, 88, 82, 80],\n",
    "                     'test_score': [77, 89, 74, 69,\n",
    "                                    88, 93, 94, 90,\n",
    "                                    85, 81, 83, 79]})\n",
    "data"
   ]
  },
  {
   "cell_type": "code",
   "execution_count": 6,
   "outputs": [
    {
     "data": {
      "text/plain": "          Source          SS  DF         F     p-unc       np2\n0    methodology  387.510992   2  6.005703  0.025542  0.600228\n1  current_grade    1.404669   1  0.043540  0.839927  0.005413\n2       Residual  258.095331   8       NaN       NaN       NaN",
      "text/html": "<div>\n<style scoped>\n    .dataframe tbody tr th:only-of-type {\n        vertical-align: middle;\n    }\n\n    .dataframe tbody tr th {\n        vertical-align: top;\n    }\n\n    .dataframe thead th {\n        text-align: right;\n    }\n</style>\n<table border=\"1\" class=\"dataframe\">\n  <thead>\n    <tr style=\"text-align: right;\">\n      <th></th>\n      <th>Source</th>\n      <th>SS</th>\n      <th>DF</th>\n      <th>F</th>\n      <th>p-unc</th>\n      <th>np2</th>\n    </tr>\n  </thead>\n  <tbody>\n    <tr>\n      <th>0</th>\n      <td>methodology</td>\n      <td>387.510992</td>\n      <td>2</td>\n      <td>6.005703</td>\n      <td>0.025542</td>\n      <td>0.600228</td>\n    </tr>\n    <tr>\n      <th>1</th>\n      <td>current_grade</td>\n      <td>1.404669</td>\n      <td>1</td>\n      <td>0.043540</td>\n      <td>0.839927</td>\n      <td>0.005413</td>\n    </tr>\n    <tr>\n      <th>2</th>\n      <td>Residual</td>\n      <td>258.095331</td>\n      <td>8</td>\n      <td>NaN</td>\n      <td>NaN</td>\n      <td>NaN</td>\n    </tr>\n  </tbody>\n</table>\n</div>"
     },
     "execution_count": 6,
     "metadata": {},
     "output_type": "execute_result"
    }
   ],
   "source": [
    "from pingouin import ancova\n",
    "\n",
    "data = pd.DataFrame({'methodology': np.repeat(['A', 'B', 'C'], 4),\n",
    "                     'current_grade': [67, 88, 75, 85,\n",
    "                                       92, 77, 74, 88,\n",
    "                                       91, 88, 82, 80],\n",
    "                     'test_score': [77, 89, 74, 69,\n",
    "                                    88, 93, 94, 90,\n",
    "                                    85, 81, 83, 79]})\n",
    "\n",
    "ancova(data=data, dv='test_score', covar='current_grade', between='methodology')"
   ],
   "metadata": {
    "collapsed": false,
    "ExecuteTime": {
     "end_time": "2023-11-26T19:48:54.611117362Z",
     "start_time": "2023-11-26T19:48:52.416156505Z"
    }
   },
   "id": "a260d7e48007466b"
  },
  {
   "cell_type": "code",
   "execution_count": null,
   "outputs": [],
   "source": [],
   "metadata": {
    "collapsed": false
   },
   "id": "e12049b644866904"
  }
 ],
 "metadata": {
  "kernelspec": {
   "display_name": "Python 3",
   "language": "python",
   "name": "python3"
  },
  "language_info": {
   "codemirror_mode": {
    "name": "ipython",
    "version": 2
   },
   "file_extension": ".py",
   "mimetype": "text/x-python",
   "name": "python",
   "nbconvert_exporter": "python",
   "pygments_lexer": "ipython2",
   "version": "2.7.6"
  }
 },
 "nbformat": 4,
 "nbformat_minor": 5
}
